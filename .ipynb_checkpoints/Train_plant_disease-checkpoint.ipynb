{
 "cells": [
  {
   "cell_type": "markdown",
   "id": "d7b5a665",
   "metadata": {},
   "source": [
    "### Import libraries "
   ]
  },
  {
   "cell_type": "code",
   "execution_count": 2,
   "id": "7f864f67",
   "metadata": {},
   "outputs": [],
   "source": [
    "import tensorflow as tf\n",
    "import matplotlib.pyplot as plt\n",
    "import pandas as pd\n",
    "import seaborn as sns"
   ]
  },
  {
   "cell_type": "markdown",
   "id": "ae2dc2fd",
   "metadata": {},
   "source": [
    "### Data Preprocessing"
   ]
  },
  {
   "cell_type": "markdown",
   "id": "59d43991",
   "metadata": {},
   "source": [
    "### Training Image preprocessing "
   ]
  },
  {
   "cell_type": "code",
   "execution_count": 3,
   "id": "e1c1d4a9",
   "metadata": {},
   "outputs": [
    {
     "name": "stdout",
     "output_type": "stream",
     "text": [
      "Found 70295 files belonging to 38 classes.\n"
     ]
    },
    {
     "name": "stderr",
     "output_type": "stream",
     "text": [
      "I0000 00:00:1745161519.216864   59945 gpu_device.cc:2019] Created device /job:localhost/replica:0/task:0/device:GPU:0 with 4807 MB memory:  -> device: 0, name: NVIDIA GeForce GTX 1660 Ti, pci bus id: 0000:01:00.0, compute capability: 7.5\n"
     ]
    }
   ],
   "source": [
    "training_set = tf.keras.utils.image_dataset_from_directory(\n",
    "    'train',\n",
    "    labels=\"inferred\",\n",
    "    label_mode=\"categorical\",\n",
    "    class_names=None,\n",
    "    color_mode=\"rgb\",\n",
    "    batch_size=32,\n",
    "    image_size=(128, 128),\n",
    "    shuffle=True,\n",
    "    seed=None,\n",
    "    validation_split=None,\n",
    "    subset=None,\n",
    "    interpolation=\"bilinear\",\n",
    "    follow_links=False,\n",
    ")\n"
   ]
  },
  {
   "cell_type": "markdown",
   "id": "cd431b91",
   "metadata": {},
   "source": [
    "### Validation Image Peprocessing"
   ]
  },
  {
   "cell_type": "code",
   "execution_count": 4,
   "id": "e8aa2786",
   "metadata": {},
   "outputs": [
    {
     "name": "stdout",
     "output_type": "stream",
     "text": [
      "Found 17572 files belonging to 38 classes.\n"
     ]
    }
   ],
   "source": [
    "validation_set = tf.keras.utils.image_dataset_from_directory(\n",
    "    'valid',\n",
    "    labels=\"inferred\",\n",
    "    label_mode=\"categorical\",\n",
    "    class_names=None,\n",
    "    color_mode=\"rgb\",\n",
    "    batch_size=32,\n",
    "    image_size=(128, 128),\n",
    "    shuffle=True,\n",
    "    seed=None,\n",
    "    validation_split=None,\n",
    "    subset=None,\n",
    "    interpolation=\"bilinear\",\n",
    "    follow_links=False,\n",
    ")"
   ]
  },
  {
   "cell_type": "code",
   "execution_count": 5,
   "id": "8fa786e8",
   "metadata": {},
   "outputs": [
    {
     "data": {
      "text/plain": [
       "<_PrefetchDataset element_spec=(TensorSpec(shape=(None, 128, 128, 3), dtype=tf.float32, name=None), TensorSpec(shape=(None, 38), dtype=tf.float32, name=None))>"
      ]
     },
     "execution_count": 5,
     "metadata": {},
     "output_type": "execute_result"
    }
   ],
   "source": [
    "training_set"
   ]
  },
  {
   "cell_type": "code",
   "execution_count": 6,
   "id": "96375b8c",
   "metadata": {},
   "outputs": [
    {
     "name": "stdout",
     "output_type": "stream",
     "text": [
      "tf.Tensor(\n",
      "[[[[ 77.    66.25  79.  ]\n",
      "   [ 84.25  74.75  86.25]\n",
      "   [ 87.5   76.75  89.5 ]\n",
      "   ...\n",
      "   [ 88.5   83.75  94.5 ]\n",
      "   [ 93.75  88.25  99.75]\n",
      "   [ 96.75  92.   102.75]]\n",
      "\n",
      "  [[155.75 143.75 157.75]\n",
      "   [145.25 133.25 147.25]\n",
      "   [144.75 132.75 146.75]\n",
      "   ...\n",
      "   [171.25 165.   179.5 ]\n",
      "   [169.5  163.25 177.75]\n",
      "   [170.25 164.   178.5 ]]\n",
      "\n",
      "  [[154.   142.   156.  ]\n",
      "   [155.   143.   157.  ]\n",
      "   [150.75 138.75 152.75]\n",
      "   ...\n",
      "   [186.75 179.5  197.75]\n",
      "   [184.5  177.25 195.5 ]\n",
      "   [171.75 164.5  182.75]]\n",
      "\n",
      "  ...\n",
      "\n",
      "  [[138.   125.   142.  ]\n",
      "   [170.75 157.75 174.75]\n",
      "   [140.5  127.5  144.5 ]\n",
      "   ...\n",
      "   [149.   137.   157.  ]\n",
      "   [143.5  131.5  151.5 ]\n",
      "   [124.   112.   132.  ]]\n",
      "\n",
      "  [[121.25 108.25 125.25]\n",
      "   [154.   141.   158.  ]\n",
      "   [162.25 149.25 166.25]\n",
      "   ...\n",
      "   [150.5  139.5  156.5 ]\n",
      "   [138.   127.   144.  ]\n",
      "   [157.5  146.5  163.5 ]]\n",
      "\n",
      "  [[143.5  130.5  147.5 ]\n",
      "   [166.25 153.25 170.25]\n",
      "   [143.5  130.5  147.5 ]\n",
      "   ...\n",
      "   [140.25 129.25 146.25]\n",
      "   [133.25 122.25 139.25]\n",
      "   [142.   131.   148.  ]]]\n",
      "\n",
      "\n",
      " [[[155.75 148.75 156.75]\n",
      "   [156.25 149.25 157.25]\n",
      "   [152.75 145.75 153.75]\n",
      "   ...\n",
      "   [152.25 142.25 150.25]\n",
      "   [148.25 138.25 146.25]\n",
      "   [147.   137.   145.  ]]\n",
      "\n",
      "  [[146.   139.   147.  ]\n",
      "   [156.75 149.75 157.75]\n",
      "   [159.25 152.25 160.25]\n",
      "   ...\n",
      "   [144.5  134.5  142.5 ]\n",
      "   [139.   129.   137.  ]\n",
      "   [137.25 127.25 135.25]]\n",
      "\n",
      "  [[159.5  152.5  160.5 ]\n",
      "   [149.25 142.25 150.25]\n",
      "   [148.75 141.75 149.75]\n",
      "   ...\n",
      "   [144.75 134.75 142.75]\n",
      "   [158.   148.   156.  ]\n",
      "   [157.25 147.25 155.25]]\n",
      "\n",
      "  ...\n",
      "\n",
      "  [[155.5  152.5  163.5 ]\n",
      "   [163.25 160.25 171.25]\n",
      "   [168.5  165.5  176.5 ]\n",
      "   ...\n",
      "   [163.75 157.75 167.75]\n",
      "   [163.   157.   167.  ]\n",
      "   [159.   153.   163.  ]]\n",
      "\n",
      "  [[160.25 157.25 168.25]\n",
      "   [159.75 156.75 167.75]\n",
      "   [159.   156.   167.  ]\n",
      "   ...\n",
      "   [163.5  157.5  167.5 ]\n",
      "   [164.75 158.75 168.75]\n",
      "   [171.75 165.75 175.75]]\n",
      "\n",
      "  [[153.5  150.5  161.5 ]\n",
      "   [169.25 166.25 177.25]\n",
      "   [167.5  164.5  175.5 ]\n",
      "   ...\n",
      "   [178.5  172.5  182.5 ]\n",
      "   [162.   156.   166.  ]\n",
      "   [160.75 154.75 164.75]]]\n",
      "\n",
      "\n",
      " [[[193.75 180.75 187.75]\n",
      "   [190.   177.   184.  ]\n",
      "   [190.75 177.75 184.75]\n",
      "   ...\n",
      "   [140.5  129.5  135.5 ]\n",
      "   [140.25 129.25 135.25]\n",
      "   [142.75 131.75 137.75]]\n",
      "\n",
      "  [[190.   177.   184.  ]\n",
      "   [189.25 176.25 183.25]\n",
      "   [191.5  178.5  185.5 ]\n",
      "   ...\n",
      "   [138.5  127.5  133.5 ]\n",
      "   [152.75 141.75 147.75]\n",
      "   [148.5  137.5  143.5 ]]\n",
      "\n",
      "  [[192.   179.   186.  ]\n",
      "   [189.75 176.75 183.75]\n",
      "   [186.25 173.25 180.25]\n",
      "   ...\n",
      "   [145.   134.   140.  ]\n",
      "   [134.   123.   129.  ]\n",
      "   [143.75 132.75 138.75]]\n",
      "\n",
      "  ...\n",
      "\n",
      "  [[144.5  124.5  125.5 ]\n",
      "   [149.25 129.25 130.25]\n",
      "   [149.   129.   130.  ]\n",
      "   ...\n",
      "   [ 93.25  79.25  79.25]\n",
      "   [ 92.    78.    78.  ]\n",
      "   [ 86.75  72.75  72.75]]\n",
      "\n",
      "  [[148.   128.   129.  ]\n",
      "   [138.   118.   119.  ]\n",
      "   [150.   130.   131.  ]\n",
      "   ...\n",
      "   [ 93.    79.    79.  ]\n",
      "   [ 92.5   78.5   78.5 ]\n",
      "   [ 91.25  77.25  77.25]]\n",
      "\n",
      "  [[141.25 121.25 122.25]\n",
      "   [139.   119.   120.  ]\n",
      "   [142.75 122.75 123.75]\n",
      "   ...\n",
      "   [ 87.    73.    73.  ]\n",
      "   [ 89.5   75.5   75.5 ]\n",
      "   [ 87.75  73.75  73.75]]]\n",
      "\n",
      "\n",
      " ...\n",
      "\n",
      "\n",
      " [[[119.25 115.25 138.25]\n",
      "   [120.5  116.5  139.5 ]\n",
      "   [120.5  116.5  139.5 ]\n",
      "   ...\n",
      "   [ 85.    77.    98.  ]\n",
      "   [ 99.75  91.75 112.75]\n",
      "   [105.75  97.75 118.75]]\n",
      "\n",
      "  [[129.75 125.75 148.75]\n",
      "   [116.75 112.75 135.75]\n",
      "   [118.5  114.5  137.5 ]\n",
      "   ...\n",
      "   [ 91.75  83.75 104.75]\n",
      "   [ 99.    91.   112.  ]\n",
      "   [ 95.5   87.5  108.5 ]]\n",
      "\n",
      "  [[124.25 120.25 143.25]\n",
      "   [127.   123.   146.  ]\n",
      "   [122.   118.   141.  ]\n",
      "   ...\n",
      "   [108.   100.   121.  ]\n",
      "   [115.   107.   128.  ]\n",
      "   [ 97.5   89.5  110.5 ]]\n",
      "\n",
      "  ...\n",
      "\n",
      "  [[211.5  215.5  227.5 ]\n",
      "   [208.   212.   224.  ]\n",
      "   [204.25 208.25 220.25]\n",
      "   ...\n",
      "   [150.5  153.5  172.5 ]\n",
      "   [147.   150.   169.  ]\n",
      "   [151.   154.   173.  ]]\n",
      "\n",
      "  [[208.25 212.25 224.25]\n",
      "   [207.   211.   223.  ]\n",
      "   [206.75 210.75 222.75]\n",
      "   ...\n",
      "   [152.25 155.25 174.25]\n",
      "   [157.5  160.5  179.5 ]\n",
      "   [145.5  148.5  167.5 ]]\n",
      "\n",
      "  [[200.   204.   216.  ]\n",
      "   [202.   206.   218.  ]\n",
      "   [206.5  210.5  222.5 ]\n",
      "   ...\n",
      "   [145.   148.   167.  ]\n",
      "   [153.5  156.5  175.5 ]\n",
      "   [136.   139.   158.  ]]]\n",
      "\n",
      "\n",
      " [[[166.75 155.75 161.75]\n",
      "   [180.25 169.25 175.25]\n",
      "   [182.75 171.75 177.75]\n",
      "   ...\n",
      "   [209.75 203.75 207.75]\n",
      "   [208.   202.   206.  ]\n",
      "   [216.   210.   214.  ]]\n",
      "\n",
      "  [[170.   159.   165.  ]\n",
      "   [165.25 154.25 160.25]\n",
      "   [171.75 160.75 166.75]\n",
      "   ...\n",
      "   [214.75 208.75 212.75]\n",
      "   [214.75 208.75 212.75]\n",
      "   [216.75 210.75 214.75]]\n",
      "\n",
      "  [[173.75 162.75 168.75]\n",
      "   [168.   157.   163.  ]\n",
      "   [161.   150.   156.  ]\n",
      "   ...\n",
      "   [220.   214.   218.  ]\n",
      "   [221.5  215.5  219.5 ]\n",
      "   [221.5  215.5  219.5 ]]\n",
      "\n",
      "  ...\n",
      "\n",
      "  [[139.5  129.5  140.5 ]\n",
      "   [138.75 128.75 139.75]\n",
      "   [139.25 129.25 140.25]\n",
      "   ...\n",
      "   [153.   146.   162.  ]\n",
      "   [154.75 147.75 163.75]\n",
      "   [150.75 143.75 159.75]]\n",
      "\n",
      "  [[132.25 122.25 133.25]\n",
      "   [134.5  124.5  135.5 ]\n",
      "   [131.5  121.5  132.5 ]\n",
      "   ...\n",
      "   [142.5  135.5  151.5 ]\n",
      "   [144.5  137.5  153.5 ]\n",
      "   [157.5  150.5  166.5 ]]\n",
      "\n",
      "  [[143.5  133.5  144.5 ]\n",
      "   [142.75 132.75 143.75]\n",
      "   [141.   131.   142.  ]\n",
      "   ...\n",
      "   [144.25 137.25 153.25]\n",
      "   [135.75 128.75 144.75]\n",
      "   [149.5  142.5  158.5 ]]]\n",
      "\n",
      "\n",
      " [[[165.25 152.25 146.25]\n",
      "   [156.25 143.25 137.25]\n",
      "   [160.25 147.25 141.25]\n",
      "   ...\n",
      "   [161.5  150.5  146.5 ]\n",
      "   [162.75 151.75 147.75]\n",
      "   [169.5  158.5  154.5 ]]\n",
      "\n",
      "  [[161.25 148.25 142.25]\n",
      "   [157.5  144.5  138.5 ]\n",
      "   [155.5  142.5  136.5 ]\n",
      "   ...\n",
      "   [174.75 163.75 159.75]\n",
      "   [171.   160.   156.  ]\n",
      "   [155.75 144.75 140.75]]\n",
      "\n",
      "  [[153.   140.   134.  ]\n",
      "   [158.75 145.75 139.75]\n",
      "   [166.25 153.25 147.25]\n",
      "   ...\n",
      "   [165.75 154.75 150.75]\n",
      "   [160.25 149.25 145.25]\n",
      "   [153.25 142.25 138.25]]\n",
      "\n",
      "  ...\n",
      "\n",
      "  [[173.75 165.75 162.75]\n",
      "   [180.75 172.75 169.75]\n",
      "   [182.   174.   171.  ]\n",
      "   ...\n",
      "   [196.5  192.5  189.5 ]\n",
      "   [201.25 197.25 194.25]\n",
      "   [201.   197.   194.  ]]\n",
      "\n",
      "  [[175.75 167.75 164.75]\n",
      "   [184.25 176.25 173.25]\n",
      "   [166.25 158.25 155.25]\n",
      "   ...\n",
      "   [204.5  200.5  197.5 ]\n",
      "   [202.75 198.75 195.75]\n",
      "   [199.75 195.75 192.75]]\n",
      "\n",
      "  [[179.25 171.25 168.25]\n",
      "   [179.   171.   168.  ]\n",
      "   [181.25 173.25 170.25]\n",
      "   ...\n",
      "   [205.75 201.75 198.75]\n",
      "   [199.25 195.25 192.25]\n",
      "   [198.5  194.5  191.5 ]]]], shape=(32, 128, 128, 3), dtype=float32) (32, 128, 128, 3)\n",
      "tf.Tensor(\n",
      "[[0. 1. 0. ... 0. 0. 0.]\n",
      " [0. 0. 0. ... 0. 0. 0.]\n",
      " [0. 0. 0. ... 0. 0. 0.]\n",
      " ...\n",
      " [0. 0. 0. ... 0. 0. 0.]\n",
      " [0. 0. 0. ... 0. 0. 0.]\n",
      " [0. 0. 0. ... 0. 0. 0.]], shape=(32, 38), dtype=float32) (32, 38)\n"
     ]
    }
   ],
   "source": [
    "for x,y in training_set:\n",
    "    print(x,x.shape)\n",
    "    print(y,y.shape)\n",
    "    break"
   ]
  },
  {
   "cell_type": "markdown",
   "id": "fcb92e04",
   "metadata": {},
   "source": [
    "### Building Model"
   ]
  },
  {
   "cell_type": "code",
   "execution_count": null,
   "id": "ca46cd2f",
   "metadata": {},
   "outputs": [],
   "source": [
    "from tensorflow.keras.layers import Dense,Conv2D\n",
    "from tensorflow.keras.layers import Sequential"
   ]
  },
  {
   "cell_type": "code",
   "execution_count": null,
   "id": "5d5244fe",
   "metadata": {},
   "outputs": [],
   "source": [
    "model = Sequential()"
   ]
  },
  {
   "cell_type": "markdown",
   "id": "82c14f1e",
   "metadata": {},
   "source": [
    "### Building Convolution Layer "
   ]
  },
  {
   "cell_type": "code",
   "execution_count": null,
   "id": "3af0a6bd",
   "metadata": {},
   "outputs": [],
   "source": [
    "model.add(Conv2D(filters=32,kernel_size=3,padding='same',activation='relu',input_shape=[128,128,3]))\n",
    "model.add(Conv2D(filters=32,kernel_size=3,padding='same',activation='relu'\n",
    "model.add(MaxPool2D(pool_size=2,strides=2))"
   ]
  },
  {
   "cell_type": "code",
   "execution_count": null,
   "id": "2465b09e",
   "metadata": {},
   "outputs": [],
   "source": [
    "model.add(Conv2D(filters=64,kernel_size=3,padding='same',activation='relu',input_shape=[128,128,3]))\n",
    "model.add(Conv2D(filters=64,kernel_size=3,padding='same',activation='relu'\n",
    "model.add(MaxPool2D(pool_size=2,strides=2))"
   ]
  },
  {
   "cell_type": "code",
   "execution_count": null,
   "id": "df181751",
   "metadata": {},
   "outputs": [],
   "source": [
    "model.add(Conv2D(filters=128,kernel_size=3,padding='same',activation='relu',input_shape=[128,128,3]))\n",
    "model.add(Conv2D(filters=128,kernel_size=3,padding='same',activation='relu'\n",
    "model.add(MaxPool2D(pool_size=2,strides=2))"
   ]
  },
  {
   "cell_type": "code",
   "execution_count": null,
   "id": "0e3bf80d",
   "metadata": {},
   "outputs": [],
   "source": [
    "model.add(Conv2D(filters=256,kernel_size=3,padding='same',activation='relu',input_shape=[128,128,3]))\n",
    "model.add(Conv2D(filters=256,kernel_size=3,padding='same',activation='relu'\n",
    "model.add(MaxPool2D(pool_size=2,strides=2))"
   ]
  },
  {
   "cell_type": "markdown",
   "id": "1ef79001",
   "metadata": {},
   "source": [
    "### Flattening"
   ]
  },
  {
   "cell_type": "code",
   "execution_count": null,
   "id": "77489ab5",
   "metadata": {},
   "outputs": [],
   "source": [
    "model.add(flattern())"
   ]
  },
  {
   "cell_type": "markdown",
   "id": "4d9795a9",
   "metadata": {},
   "source": []
  }
 ],
 "metadata": {
  "kernelspec": {
   "display_name": "Python (tf-env)",
   "language": "python",
   "name": "myenv"
  },
  "language_info": {
   "codemirror_mode": {
    "name": "ipython",
    "version": 3
   },
   "file_extension": ".py",
   "mimetype": "text/x-python",
   "name": "python",
   "nbconvert_exporter": "python",
   "pygments_lexer": "ipython3",
   "version": "3.10.16"
  }
 },
 "nbformat": 4,
 "nbformat_minor": 5
}
